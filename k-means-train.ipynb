{
 "cells": [
  {
   "cell_type": "code",
   "execution_count": 44,
   "metadata": {},
   "outputs": [],
   "source": [
    "#!pip install -U yellowbrick\n",
    "import pickle\n",
    "import pandas as pd\n",
    "import numpy as np\n",
    "from sklearn.preprocessing import StandardScaler\n",
    "from sklearn.pipeline import Pipeline\n",
    "from numpy import array\n",
    "from numpy import cov\n",
    "from numpy.linalg import eig\n",
    "from factor_analyzer import FactorAnalyzer\n",
    "import factor_analyzer\n",
    "from sklearn.cluster import KMeans\n",
    "from sklearn.impute import SimpleImputer\n",
    "from sklearn.linear_model import LogisticRegression\n",
    "from sklearn.decomposition import PCA\n",
    "import seaborn as sns\n",
    "import matplotlib.pyplot as plt\n",
    "from sklearn.utils.validation import check_array\n",
    "from sklearn.base import TransformerMixin\n",
    "from sklearn.preprocessing import StandardScaler as SklearnStandardScaler"
   ]
  },
  {
   "cell_type": "markdown",
   "metadata": {},
   "source": [
    "### Read Data"
   ]
  },
  {
   "cell_type": "code",
   "execution_count": 1,
   "metadata": {
    "scrolled": false
   },
   "outputs": [],
   "source": [
    "df = pd.read_csv(\"BASE_DATA.csv\",header = None) \n",
    "\n",
    "\n",
    "df.columns =['CUSTOMER','SPEND','VISITS','online_gender_perc','basket','age_perc',\n",
    "             'num_cat_perc','gender_perc','box_style1_perc','box_class_perc',\n",
    "             'box_style2_perc','income','bkt_sale_perc','bkt_reg_perc',\n",
    "             'accessory_sales_perc','beauty_sales_perc','men_sales_perc',\n",
    "             'woman_sales_perc','intimates_sales_perc','kids_sales_perc','woman_footwear_sales_perc']\n",
    "\n",
    "\n",
    "df = df.set_index('CUSTOMER')\n",
    "df.head()"
   ]
  },
  {
   "cell_type": "markdown",
   "metadata": {},
   "source": [
    "### Data Manipulation"
   ]
  },
  {
   "cell_type": "code",
   "execution_count": 47,
   "metadata": {},
   "outputs": [],
   "source": [
    "features = ['online_gender_perc','basket','age_perc',\n",
    "             'num_cat_perc','gender_perc','box_style1_perc','box_class_perc',\n",
    "             'box_style2_perc','income','bkt_sale_perc','bkt_reg_perc',\n",
    "             'accessory_sales_perc','beauty_sales_perc','men_sales_perc',\n",
    "             'woman_sales_perc','intimates_sales_perc','kids_sales_perc','woman_footwear_sales_perc']"
   ]
  },
  {
   "cell_type": "markdown",
   "metadata": {},
   "source": [
    "<a id=\"3\"></a>"
   ]
  },
  {
   "cell_type": "code",
   "execution_count": 51,
   "metadata": {},
   "outputs": [],
   "source": [
    "class CustomTransformer(TransformerMixin):\n",
    "    #def __init__(self, with_mean=True, with_std=True): old\n",
    "    def __init__(self, with_mean=True, with_std=True):\n",
    "        print(\"inside transformer function\")\n",
    "     \n",
    "    def fit(self, X, y=None):\n",
    "        X[X > 3] = 3\n",
    "        X[X <-3] =-3\n",
    "\n",
    "        return self\n",
    "\n",
    "\n",
    "    def transform(self, X):\n",
    "        X[X > 3] = 3\n",
    "        X[X <-3] =-3\n",
    "        \n",
    "        return X\n",
    "      "
   ]
  },
  {
   "cell_type": "markdown",
   "metadata": {},
   "source": [
    "### K-Means Prediction"
   ]
  },
  {
   "cell_type": "code",
   "execution_count": 52,
   "metadata": {},
   "outputs": [
    {
     "name": "stdout",
     "output_type": "stream",
     "text": [
      "inside transformer function\n"
     ]
    },
    {
     "data": {
      "text/plain": [
       "Pipeline(memory=None,\n",
       "         steps=[('imputer',\n",
       "                 SimpleImputer(add_indicator=False, copy=True, fill_value=0,\n",
       "                               missing_values=nan, strategy='constant',\n",
       "                               verbose=0)),\n",
       "                ('standardize',\n",
       "                 StandardScaler(copy=True, with_mean=True, with_std=True)),\n",
       "                ('preprocessor',\n",
       "                 <__main__.CustomTransformer object at 0x7f71b557ded0>),\n",
       "                ('cluster',\n",
       "                 KMeans(algorithm='auto', copy_x=True, init='k-means++',\n",
       "                        max_iter=80, n_clusters=8, n_init=10, n_jobs=None,\n",
       "                        precompute_distances='auto', random_state=43,\n",
       "                        tol=0.0001, verbose=0))],\n",
       "         verbose=False)"
      ]
     },
     "execution_count": 52,
     "metadata": {},
     "output_type": "execute_result"
    }
   ],
   "source": [
    "#Actual Prediction\n",
    "X= df[features]\n",
    "model_pipeline = Pipeline(steps=[('imputer',SimpleImputer(strategy = 'constant',fill_value=0)),\n",
    "                                  ('standardize', StandardScaler()),\n",
    "                                ('preprocessor', CustomTransformer()),\n",
    "                              ('cluster',KMeans(n_clusters=8,init='k-means++', max_iter=80 ,n_init=10, random_state=43))])\n",
    "model_pipeline.fit(X)"
   ]
  },
  {
   "cell_type": "markdown",
   "metadata": {},
   "source": [
    "### Cluster composition"
   ]
  },
  {
   "cell_type": "code",
   "execution_count": 2,
   "metadata": {},
   "outputs": [],
   "source": [
    "#y = model_pipeline.predict(X)\n",
    "y=model_pipeline.predict(X)\n",
    "\n",
    "df_pred = pd.DataFrame(y,index = df.index,columns=['predicted_cluster'])\n",
    "df_pred = df_pred['predicted_cluster'] + 1   #adjust cluster numbers\n",
    "df_pred = pd.concat([df, df_pred], axis=1)\n",
    "df_pred.head()"
   ]
  },
  {
   "cell_type": "code",
   "execution_count": 3,
   "metadata": {},
   "outputs": [],
   "source": [
    "df_pred.loc[df_pred['predicted_cluster'] == 1, 'Cluster'] = 'Cluster1'\n",
    "df_pred.loc[df_pred['predicted_cluster'] == 2, 'Cluster'] = 'Cluster2'\n",
    "df_pred.loc[df_pred['predicted_cluster'] == 3, 'Cluster'] = 'Cluster3'\n",
    "df_pred.loc[df_pred['predicted_cluster'] == 4, 'Cluster'] = 'Cluster4'\n",
    "df_pred.loc[df_pred['predicted_cluster'] == 5, 'Cluster'] = 'Cluster5'\n",
    "df_pred.loc[df_pred['predicted_cluster'] == 6, 'Cluster'] = 'Cluster6'\n",
    "df_pred.loc[df_pred['predicted_cluster'] == 7, 'Cluster'] = 'Cluster7'\n",
    "df_pred.loc[df_pred['predicted_cluster'] == 8, 'Cluster'] = 'Cluster8'\n",
    "\n",
    "customers_per_cluster = df_pred.groupby('Cluster',as_index=True).agg({'age_perc' : ['count']}).rename(columns={'age_perc':'customer'})#COUNT ANY COLUMN\n",
    "customers_per_cluster"
   ]
  },
  {
   "cell_type": "markdown",
   "metadata": {},
   "source": [
    "### Save the model"
   ]
  },
  {
   "cell_type": "code",
   "execution_count": 57,
   "metadata": {},
   "outputs": [],
   "source": [
    "# Save to file in the current working directory\n",
    "pkl_filename = \"pickle_kmeans_pipe_80itr.pkl\"\n",
    "with open(pkl_filename, 'wb') as file:\n",
    "    pickle.dump(model_pipeline, file)\n",
    "\n",
    "# Load from file\n",
    "# with open(pkl_filename, 'rb') as file:\n",
    "#     pickle_model = pickle.load(file)\n",
    "    "
   ]
  }
 ],
 "metadata": {
  "kernelspec": {
   "display_name": "Python 3",
   "language": "python",
   "name": "python3"
  },
  "language_info": {
   "codemirror_mode": {
    "name": "ipython",
    "version": 3
   },
   "file_extension": ".py",
   "mimetype": "text/x-python",
   "name": "python",
   "nbconvert_exporter": "python",
   "pygments_lexer": "ipython3",
   "version": "3.8.3"
  }
 },
 "nbformat": 4,
 "nbformat_minor": 4
}
