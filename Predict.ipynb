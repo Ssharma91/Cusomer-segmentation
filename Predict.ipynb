{
 "cells": [
  {
   "cell_type": "code",
   "execution_count": 22,
   "metadata": {},
   "outputs": [],
   "source": [
    "#!pip install -U yellowbrick\n",
    "import pickle\n",
    "import pandas as pd\n",
    "import numpy as np\n",
    "from sklearn.preprocessing import StandardScaler\n",
    "from sklearn.pipeline import Pipeline\n",
    "from numpy import array\n",
    "from numpy import cov\n",
    "from numpy.linalg import eig\n",
    "from factor_analyzer import FactorAnalyzer\n",
    "import factor_analyzer\n",
    "from sklearn.cluster import KMeans\n",
    "from sklearn.impute import SimpleImputer\n",
    "from sklearn.linear_model import LogisticRegression\n",
    "from sklearn.decomposition import PCA\n",
    "import seaborn as sns\n",
    "import matplotlib.pyplot as plt\n",
    "from sklearn.utils.validation import check_array\n",
    "from sklearn.base import TransformerMixin\n",
    "from sklearn.preprocessing import StandardScaler as SklearnStandardScaler"
   ]
  },
  {
   "cell_type": "code",
   "execution_count": 1,
   "metadata": {},
   "outputs": [],
   "source": [
    "#Read\n",
    "df = pd.read_csv(\"SCORE.csv\",header = None)\n",
    "\n",
    "\n",
    "df.columns =['CUSTOMER','SPEND','VISITS','online_gender_perc','basket','age_perc',\n",
    "             'num_cat_perc','gender_perc','box_style1_perc','box_class_perc',\n",
    "             'box_style2_perc','income','bkt_sale_perc','bkt_reg_perc',\n",
    "             'accessory_sales_perc','beauty_sales_perc','men_sales_perc',\n",
    "             'woman_sales_perc','intimates_sales_perc','kids_sales_perc','woman_footwear_sales_perc']\n",
    "\n",
    "\n",
    "df = df.set_index('CUSTOMER')\n",
    "df.head()"
   ]
  },
  {
   "cell_type": "code",
   "execution_count": 25,
   "metadata": {},
   "outputs": [],
   "source": [
    "features = ['CUSTOMER','SPEND','VISITS','online_gender_perc','basket','age_perc',\n",
    "             'num_cat_perc','gender_perc','box_style1_perc','box_class_perc',\n",
    "             'box_style2_perc','income','bkt_sale_perc','bkt_reg_perc',\n",
    "             'accessory_sales_perc','beauty_sales_perc','men_sales_perc',\n",
    "             'woman_sales_perc','intimates_sales_perc','kids_sales_perc','woman_footwear_sales_perc']"
   ]
  },
  {
   "cell_type": "code",
   "execution_count": 26,
   "metadata": {},
   "outputs": [],
   "source": [
    "class CustomTransformer(TransformerMixin):\n",
    "    #def __init__(self, with_mean=True, with_std=True): old\n",
    "    def __init__(self, with_mean=True, with_std=True):\n",
    "        print(\"inside transformer function\")\n",
    "\n",
    "\n",
    "    def transform(self, X):\n",
    "        X[X > 3] = 3\n",
    "        X[X <-3] =-3\n",
    "        \n",
    "        return X"
   ]
  },
  {
   "cell_type": "code",
   "execution_count": 27,
   "metadata": {},
   "outputs": [],
   "source": [
    "model_kmeans = pickle.load(open('pickle_kmeans_pipe.pkl', 'rb'))"
   ]
  },
  {
   "cell_type": "code",
   "execution_count": 28,
   "metadata": {},
   "outputs": [],
   "source": [
    "x = df[features]\n",
    "y = model_kmeans.predict(x)"
   ]
  },
  {
   "cell_type": "code",
   "execution_count": 29,
   "metadata": {},
   "outputs": [
    {
     "data": {
      "text/plain": [
       "8"
      ]
     },
     "execution_count": 29,
     "metadata": {},
     "output_type": "execute_result"
    }
   ],
   "source": [
    "df_pred = pd.DataFrame(y, index=df.index, columns=['predicted_cluster'])\n",
    "df_pred = df_pred['predicted_cluster'] + 1   #Convert clsuter numbers from 0-7 range to 1-8 range\n",
    "df_pred = pd.concat([df, df_pred], axis=1)\n",
    "df_pred['predicted_cluster'].max()"
   ]
  },
  {
   "cell_type": "code",
   "execution_count": 2,
   "metadata": {},
   "outputs": [],
   "source": [
    "df_pred.loc[df_pred['predicted_cluster'] == 1, 'Cluster'] = 'Cluster1'\n",
    "df_pred.loc[df_pred['predicted_cluster'] == 2, 'Cluster'] = 'Cluster2'\n",
    "df_pred.loc[df_pred['predicted_cluster'] == 3, 'Cluster'] = 'Cluster3'\n",
    "df_pred.loc[df_pred['predicted_cluster'] == 4, 'Cluster'] = 'Cluster4'\n",
    "df_pred.loc[df_pred['predicted_cluster'] == 5, 'Cluster'] = 'Cluster5'\n",
    "df_pred.loc[df_pred['predicted_cluster'] == 6, 'Cluster'] = 'Cluster6'\n",
    "df_pred.loc[df_pred['predicted_cluster'] == 7, 'Cluster'] = 'Cluster7'\n",
    "df_pred.loc[df_pred['predicted_cluster'] == 8, 'Cluster'] = 'Cluster8'\n",
    "\n",
    "customers_per_cluster = df_pred.groupby('Cluster',as_index=True).agg({'age_perc' : ['count']}).rename(columns={'age_perc':'customer'})#COUNT ANY COLUMN\n",
    "customers_per_cluster"
   ]
  }
 ],
 "metadata": {
  "kernelspec": {
   "display_name": "Python 3",
   "language": "python",
   "name": "python3"
  },
  "language_info": {
   "codemirror_mode": {
    "name": "ipython",
    "version": 3
   },
   "file_extension": ".py",
   "mimetype": "text/x-python",
   "name": "python",
   "nbconvert_exporter": "python",
   "pygments_lexer": "ipython3",
   "version": "3.8.3"
  }
 },
 "nbformat": 4,
 "nbformat_minor": 2
}
